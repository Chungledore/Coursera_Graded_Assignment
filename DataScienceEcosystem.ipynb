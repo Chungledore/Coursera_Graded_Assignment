{
 "cells": [
  {
   "cell_type": "markdown",
   "id": "707ddc42-2bca-4fdd-bdd3-32eea7fbeb21",
   "metadata": {},
   "source": [
    "# Data Science Tools and Ecosystem"
   ]
  },
  {
   "cell_type": "markdown",
   "id": "e50e8819-1fdc-4256-af04-b608de594ccf",
   "metadata": {},
   "source": [
    "## Author\n",
    "Ishaan Harshajith Umapathy"
   ]
  },
  {
   "cell_type": "markdown",
   "id": "d5b7e391-8a1a-469b-ba8e-96ce82670b93",
   "metadata": {},
   "source": [
    "In this notebook, Data Science Tools and Ecosystem are summarized."
   ]
  },
  {
   "cell_type": "markdown",
   "id": "226fe240-91d9-432a-82e3-269476da9461",
   "metadata": {},
   "source": [
    "**Objectives:**\n",
    "\n",
    "- List popular languages for Data Science  \n",
    "- Identify commonly used libraries in Data Science  \n",
    "- Create Markdown cells with formatted text and tables  \n",
    "- List development tools used in Data Science  "
   ]
  },
  {
   "cell_type": "markdown",
   "id": "31a8a5bc-8ee2-4158-8d3a-b10ee3a196f6",
   "metadata": {},
   "source": [
    "Some of the popular languages that Data Scientists use are:\n",
    "1. Python  \n",
    "2. R  \n",
    "3. SQL  \n",
    "4. Java  \n",
    "5. Julia  \n",
    "6. Scala  \n",
    "7. MATLAB  \n",
    "8. C/C++ "
   ]
  },
  {
   "cell_type": "markdown",
   "id": "c75701c3-b6cf-474f-abdd-782a2953b830",
   "metadata": {},
   "source": [
    "Some of the commonly used libraries used by Data Scientists include:\n",
    "1.  NumPy – for numerical computations  \n",
    "2. pandas – for data manipulation and analysis  \n",
    "3. Matplotlib – for basic data visualization  \n",
    "4. Seaborn – for advanced and beautiful statistical plots  \n",
    "5. Scikit-learn – for machine learning algorithms  \n",
    "6. TensorFlow – for deep learning and neural networks  \n",
    "7. Keras – a high-level neural networks API  \n",
    "8. PyTorch – for deep learning and AI research "
   ]
  },
  {
   "cell_type": "markdown",
   "id": "22d5e996-6de5-40b1-a809-43a29984c421",
   "metadata": {},
   "source": [
    "| Data Science Tools        |\n",
    "|---------------------------|\n",
    "| Jupyter Notebook          |\n",
    "| RStudio                   |\n",
    "| Apache Zeppelin           |\n"
   ]
  },
  {
   "cell_type": "markdown",
   "id": "62c5976a-a0d9-48f0-8f03-284751894316",
   "metadata": {},
   "source": [
    "### Below are a few examples of evaluating arithmetic expressions in Python"
   ]
  },
  {
   "cell_type": "code",
   "execution_count": 4,
   "id": "3145287b-6c12-47d4-84fc-7de575c69851",
   "metadata": {},
   "outputs": [
    {
     "data": {
      "text/plain": [
       "17"
      ]
     },
     "execution_count": 4,
     "metadata": {},
     "output_type": "execute_result"
    }
   ],
   "source": [
    "#This a simple arithmetic expression to mutiply then add integers\n",
    "(3*4)+5"
   ]
  },
  {
   "cell_type": "code",
   "execution_count": 5,
   "id": "837766dc-94b4-45ac-af7d-57750ec50496",
   "metadata": {},
   "outputs": [
    {
     "data": {
      "text/plain": [
       "3.3333333333333335"
      ]
     },
     "execution_count": 5,
     "metadata": {},
     "output_type": "execute_result"
    }
   ],
   "source": [
    "#This will convert 200 minutes to hours by diving by 60\n",
    "200/60"
   ]
  },
  {
   "cell_type": "code",
   "execution_count": null,
   "id": "670cd888-3bcc-4d6b-b42e-a18afd89f64c",
   "metadata": {},
   "outputs": [],
   "source": []
  }
 ],
 "metadata": {
  "kernelspec": {
   "display_name": "Python 3 (ipykernel)",
   "language": "python",
   "name": "python3"
  },
  "language_info": {
   "codemirror_mode": {
    "name": "ipython",
    "version": 3
   },
   "file_extension": ".py",
   "mimetype": "text/x-python",
   "name": "python",
   "nbconvert_exporter": "python",
   "pygments_lexer": "ipython3",
   "version": "3.12.7"
  }
 },
 "nbformat": 4,
 "nbformat_minor": 5
}
